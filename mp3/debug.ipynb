{
 "cells": [
  {
   "cell_type": "code",
   "execution_count": 1,
   "id": "d251b21b-8d04-4d61-945b-d6117e6e223e",
   "metadata": {},
   "outputs": [],
   "source": [
    "import os\n",
    "import scrape\n",
    "import pandas as pd\n",
    "from selenium.webdriver.chrome.options import Options\n",
    "from selenium.webdriver.chrome.service import Service\n",
    "from selenium import webdriver"
   ]
  },
  {
   "cell_type": "code",
   "execution_count": 2,
   "id": "d918a582-52f1-4768-abae-73b2090caa91",
   "metadata": {},
   "outputs": [
    {
     "name": "stdout",
     "output_type": "stream",
     "text": [
      "['A', 'B', 'D', 'C']\n"
     ]
    }
   ],
   "source": [
    "df = pd.DataFrame([\n",
    "    [0,1,1,0],\n",
    "    [0,0,0,1],\n",
    "    [0,0,0,1],\n",
    "    [0,0,1,0],\n",
    "], index=[\"A\", \"B\", \"C\", \"D\"], columns=[\"A\", \"B\", \"C\", \"D\"])\n",
    "\n",
    "m = scrape.MatrixSearcher(df)\n",
    "m.bfs_search('A')\n",
    "m.dfs_search('A')\n",
    "print(m.order)"
   ]
  },
  {
   "cell_type": "code",
   "execution_count": 3,
   "id": "c6632834-7126-41eb-8c6c-c598aa0ae858",
   "metadata": {},
   "outputs": [
    {
     "name": "stdout",
     "output_type": "stream",
     "text": [
      "['2.txt', '5.txt']\n",
      "['1.txt', '2.txt', '5.txt', '3.txt', '6.txt', '4.txt', '7.txt']\n",
      "1.txt2.txt5.txt3.txt6.txt4.txt7.txt\n"
     ]
    }
   ],
   "source": [
    "f = scrape.FileSearcher(\"./file_nodes\")\n",
    "print(f.visit_and_get_children(\"1.txt\"))\n",
    "f.bfs_search(\"1.txt\")\n",
    "print(f.order)\n",
    "print(f.concat_order())"
   ]
  },
  {
   "cell_type": "code",
   "execution_count": 4,
   "id": "fb973af3-19e2-48ea-ad7a-1ac3699dad43",
   "metadata": {},
   "outputs": [
    {
     "name": "stdout",
     "output_type": "stream",
     "text": [
      "['http://35.226.216.162:5000/Node_2.html', 'http://35.226.216.162:5000/Node_5.html']\n",
      "    clue   latitude   longitude                          description\n",
      "0      8  51.180315   -1.829659                 Stonehenge in the UK\n",
      "1      2  27.987586   86.925002                 Mt. Everest in Nepal\n",
      "2      8  51.180315   -1.829659                 Stonehenge in the UK\n",
      "3      2  27.987586   86.925002                 Mt. Everest in Nepal\n",
      "4      4  34.134117 -118.321495                 Hollywood Sign in LA\n",
      "5      5  38.655100   90.061800                 Cahokia Mounds in IL\n",
      "6      9  40.748400   73.985700          Empire State Building in NY\n",
      "7      4  29.975300   31.137600        Great Sphinx of Giza in Egypt\n",
      "8      8  35.360600  138.727400                  Mount Fiji in Japan\n",
      "9      0  27.175100   78.042100               The Taj Mahal in India\n",
      "10     9  51.503200   -0.119500                       The London Eye\n",
      "11     1  47.557600   10.749800     Neuschwanstein Castle in Germany\n",
      "12     5  38.624700   90.184800        The Gateway Arch in St. Louis\n",
      "13     3  30.328500   35.444400                      Petra in Jordan\n",
      "14     2  41.480800   82.683400                    Cedar Point in OH\n",
      "15     6  43.070010  -89.409450          Quick Trip on Monroe Street\n",
      "16     4  37.819900 -122.478600        The Golden gate in California\n",
      "17     7  41.890200   12.492200                The Colosseum in Rome\n",
      "18     3  -3.067400   37.355600            Mt. Kilimanjaro in Africa\n",
      "19     5  11.349300  142.199600         Mariana Trench deepest Point\n",
      "20     7  43.060600  -89.410000           Henry Vilas Zoo in Madison\n",
      "21     1  36.117300 -115.176100      The Caesars Palace in Las Vegas\n",
      "22     1  46.852300 -121.760300             Mount Rainier in Seattle\n",
      "23     1  43.089034  -89.416128              Picnic Point in Madison\n",
      "24     7  38.105507  126.910613               Silver Beach in Hawaii\n",
      "25     1  65.044901  -16.712836  Shore of a Volcanic Lake in Iceland\n",
      "26     3  48.860945    2.335773                  The Louvre in Paris\n",
      "27     5  37.434183 -122.321990      Redwood forest in San Francisco\n"
     ]
    }
   ],
   "source": [
    "os.system(\"pkill -f -9 chromium\")\n",
    "options = Options()\n",
    "options.headless = True\n",
    "driver = webdriver.Chrome(options=options)\n",
    "ws = scrape.WebSearcher(driver)\n",
    "start_url = \"http://35.226.216.162:5000/Node_1.html\"\n",
    "print(ws.visit_and_get_children(start_url))\n",
    "ws.bfs_search(start_url)\n",
    "print(ws.table())"
   ]
  },
  {
   "cell_type": "code",
   "execution_count": 5,
   "id": "702759a5-e90d-4057-96d1-3236c133e656",
   "metadata": {},
   "outputs": [
    {
     "name": "stdout",
     "output_type": "stream",
     "text": [
      "STATE CAPITOL\n"
     ]
    }
   ],
   "source": [
    "try:\n",
    "    start_url = 'http://35.226.216.162:5000/Node_1.html'\n",
    "    web_searcher = scrape.WebSearcher(driver)\n",
    "    web_searcher.bfs_search(start_url)\n",
    "    df = web_searcher.table()\n",
    "    clues = df['clue'].tolist()\n",
    "    travellog = pd.DataFrame({'clue': clues})\n",
    "\n",
    "    url = 'http://35.226.216.162:5000/'\n",
    "    current_location = scrape.reveal_secrets(driver, url, travellog)\n",
    "    print(current_location)\n",
    "\n",
    "finally:\n",
    "    driver.quit()"
   ]
  }
 ],
 "metadata": {
  "kernelspec": {
   "display_name": "Python 3 (ipykernel)",
   "language": "python",
   "name": "python3"
  },
  "language_info": {
   "codemirror_mode": {
    "name": "ipython",
    "version": 3
   },
   "file_extension": ".py",
   "mimetype": "text/x-python",
   "name": "python",
   "nbconvert_exporter": "python",
   "pygments_lexer": "ipython3",
   "version": "3.10.12"
  }
 },
 "nbformat": 4,
 "nbformat_minor": 5
}
